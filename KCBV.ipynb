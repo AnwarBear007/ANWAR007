{
  "nbformat": 4,
  "nbformat_minor": 0,
  "metadata": {
    "colab": {
      "name": "KCBV",
      "provenance": [],
      "collapsed_sections": [],
      "authorship_tag": "ABX9TyM3KkM0A7VJ9UZhC5V9/vvb",
      "include_colab_link": true
    },
    "kernelspec": {
      "name": "python3",
      "display_name": "Python 3"
    },
    "language_info": {
      "name": "python"
    }
  },
  "cells": [
    {
      "cell_type": "markdown",
      "metadata": {
        "id": "view-in-github",
        "colab_type": "text"
      },
      "source": [
        "<a href=\"https://colab.research.google.com/github/AnwarBear007/ANWAR007/blob/main/KCBV.ipynb\" target=\"_parent\"><img src=\"https://colab.research.google.com/assets/colab-badge.svg\" alt=\"Open In Colab\"/></a>"
      ]
    },
    {
      "cell_type": "code",
      "execution_count": 1,
      "metadata": {
        "id": "PqzD50EGpr6L",
        "colab": {
          "base_uri": "https://localhost:8080/"
        },
        "outputId": "438f1e79-638d-4e73-946d-0fac0f02366b"
      },
      "outputs": [
        {
          "output_type": "stream",
          "name": "stdout",
          "text": [
            "Hello World\n"
          ]
        }
      ],
      "source": [
        "print(\"Hello World\")"
      ]
    },
    {
      "cell_type": "code",
      "source": [
        "#tipe data Boolean\n",
        "print(True)\n",
        "\n",
        "#tipe data String\n",
        "print(\"Ayo belajar Python\")\n",
        "print('Belajar Python Sangat Mudah')\n",
        "\n",
        "#tipe data Integer\n",
        "print(20)\n",
        "\n",
        "#tipe data Float\n",
        "print(3.14)\n",
        "\n",
        "#tipe data Complex\n",
        "print(5j)\n",
        "\n",
        "#tipe data List\n",
        "print([1,2,3,4,5])\n",
        "print([\"satu\", \"dua\", \"tiga\"])\n",
        "\n",
        "#tipe data Tuple\n",
        "print((1,2,3,4,5))\n",
        "print((\"satu\", \"dua\", \"tiga\"))\n",
        "\n",
        "#tipe data Dictionary\n",
        "print({\"nama\":\"Budi\", 'umur':20})\n",
        "#tipe data Dictionary dimasukan ke dalam variabel biodata\n",
        "biodata = {\"nama\":\"Andi\", 'umur':21} #proses inisialisasi variabel biodata\n",
        "print(biodata) #proses pencetakan variabel biodata yang berisi tipe data Dictionary\n",
        "print(type(biodata)) #fungsi untuk mengecek jenis tipe data. akan tampil <class 'dict'> yang berarti dict adalah tipe data dictionary"
      ],
      "metadata": {
        "colab": {
          "base_uri": "https://localhost:8080/"
        },
        "id": "1nwEWWf3rphj",
        "outputId": "680897d5-fced-4516-919a-c7c8312770b9"
      },
      "execution_count": 2,
      "outputs": [
        {
          "output_type": "stream",
          "name": "stdout",
          "text": [
            "True\n",
            "Ayo belajar Python\n",
            "Belajar Python Sangat Mudah\n",
            "20\n",
            "3.14\n",
            "5j\n",
            "[1, 2, 3, 4, 5]\n",
            "['satu', 'dua', 'tiga']\n",
            "(1, 2, 3, 4, 5)\n",
            "('satu', 'dua', 'tiga')\n",
            "{'nama': 'Budi', 'umur': 20}\n",
            "{'nama': 'Andi', 'umur': 21}\n",
            "<class 'dict'>\n"
          ]
        }
      ]
    },
    {
      "cell_type": "code",
      "source": [
        "#Kondisi if adalah kondisi yang akan dieksekusi oleh program jika bernilai benar atau TRUE\n",
        "\n",
        "nilai = 9\n",
        "\n",
        "#jika kondisi benar/TRUE maka program akan mengeksekusi perintah dibawahnya\n",
        "if(nilai > 7):\n",
        "    print(\"Sembilan Lebih Besar Dari Angka Tujuh\") # Kondisi Benar, Dieksekusi\n",
        "\n",
        "#jika kondisi salah/FALSE maka program tidak akan mengeksekusi perintah dibawahnya\n",
        "if(nilai > 10):\n",
        "    print(\"Sembilan Lebih Besar Dari Angka Sepuluh\") # Kondisi Salah, Maka tidak tereksekusi"
      ],
      "metadata": {
        "colab": {
          "base_uri": "https://localhost:8080/"
        },
        "id": "WrH869Ejscgs",
        "outputId": "7c557cbb-f244-434a-b712-99b78fb20099"
      },
      "execution_count": 3,
      "outputs": [
        {
          "output_type": "stream",
          "name": "stdout",
          "text": [
            "Sembilan Lebih Besar Dari Angka Tujuh\n"
          ]
        }
      ]
    },
    {
      "cell_type": "code",
      "source": [
        "#Kondisi if else adalah jika kondisi bernilai TRUE maka akan dieksekusi pada if, tetapi jika bernilai FALSE maka akan dieksekusi kode pada else\n",
        "\n",
        "nilai = 3\n",
        "#Jika pernyataan pada if bernilai TRUE maka if akan dieksekusi, tetapi jika FALSE kode pada else yang akan dieksekusi.\n",
        "if(nilai > 7):\n",
        "    print(\"Selamat Anda Lulus\")\n",
        "else:\n",
        "    print(\"Maaf Anda Tidak Lulus\")"
      ],
      "metadata": {
        "colab": {
          "base_uri": "https://localhost:8080/"
        },
        "id": "MutiPhOQtQP0",
        "outputId": "3eb81179-2c59-4c97-8203-a663755c776a"
      },
      "execution_count": 4,
      "outputs": [
        {
          "output_type": "stream",
          "name": "stdout",
          "text": [
            "Maaf Anda Tidak Lulus\n"
          ]
        }
      ]
    }
  ]
}